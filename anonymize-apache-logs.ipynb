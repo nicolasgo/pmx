{
 "metadata": {
  "name": "",
  "signature": "sha256:a74db7c3015b0e8adff1d689377236a3650fdedab061420e170512a9e11df32f"
 },
 "nbformat": 3,
 "nbformat_minor": 0,
 "worksheets": [
  {
   "cells": [
    {
     "cell_type": "markdown",
     "metadata": {},
     "source": [
      "#Anonymize apache/nginx logs\n",
      "-\n",
      "-"
     ]
    },
    {
     "cell_type": "heading",
     "level": 2,
     "metadata": {},
     "source": [
      "Setup"
     ]
    },
    {
     "cell_type": "code",
     "collapsed": false,
     "input": [
      "import pandas as pd\n",
      "from pandas import Series, DataFrame, Panel\n",
      "import numpy as np\n",
      "import sys\n",
      "import matplotlib.pyplot as plt\n",
      "import apachelog\n",
      "from apachelog import ApacheLogParserError\n",
      "\n",
      "from code.crypto import xx_msisdn,xx_ip\n"
     ],
     "language": "python",
     "metadata": {},
     "outputs": [],
     "prompt_number": 83
    },
    {
     "cell_type": "code",
     "collapsed": false,
     "input": [
      "from pylab import *\n",
      "rcParams['figure.figsize'] = 10, 5 # width, height in inches\n",
      "\n",
      "%matplotlib inline"
     ],
     "language": "python",
     "metadata": {},
     "outputs": [],
     "prompt_number": 84
    },
    {
     "cell_type": "code",
     "collapsed": false,
     "input": [
      "# only the last file_name gets read :-)\n",
      "#\n",
      "file_name=_rootdir+'data/alain/3gp.0219.log'\n",
      "file_name=_rootdir+'data/alain/201502_3gp.log'\n",
      "file_name=_rootdir+'data/alain/20150223.fraud'\n",
      "file_name=_rootdir+'data/alain/20150223'\n",
      "file_name=_rootdir+'data/alain/test.log'\n"
     ],
     "language": "python",
     "metadata": {},
     "outputs": [],
     "prompt_number": 171
    },
    {
     "cell_type": "heading",
     "level": 2,
     "metadata": {},
     "source": [
      "Parsing the log"
     ]
    },
    {
     "cell_type": "code",
     "collapsed": false,
     "input": [
      "import re\n",
      "import sys\n",
      "import traceback\n",
      "import datetime\n",
      "import binascii\n",
      "import socket\n",
      "\n",
      "# Regular expressions\n",
      "#\n",
      "line_nginx_full_re    =re.compile(r\"\"\"\\[(?P<dateandtime>\\d{2}\\/[a-z]{3}\\/\\d{4}:\\d{2}:\\d{2}:\\d{2} (\\+|\\-)\\d{4})\\] ((\\\"(GET|POST|HEAD) )(?P<url>.+)(http\\/1\\.1\")) (?P<statuscode>\\d{3}) (?P<bytessent>\\d+) ([\"](?P<referer>(\\-)|(.*))[\"]) ([\"](?P<useragent>.*)[\"]) (?P<id>\\w+)\"\"\", re.IGNORECASE)\n",
      "line_nginx_full_re_old=re.compile(r\"\"\"\\[(?P<dateandtime>\\d{2}\\/[a-z]{3}\\/\\d{4}:\\d{2}:\\d{2}:\\d{2} (\\+|\\-)\\d{4})\\] ((\\\"(GET|POST|HEAD) )(?P<url>.+)(http\\/1\\.1\")) (?P<statuscode>\\d{3}) (?P<bytessent>\\d+) ([\"](?P<referer>(\\-)|(.*))[\"]) ([\"](?P<useragent>.*)[\"]) (?P<id>\\w+)\"\"\", re.IGNORECASE)\n",
      "\n",
      "line_nginx_wifi_re = re.compile(r\"\"\"\\[(?P<dateandtime>\\d{2}\\/[a-z]{3}\\/\\d{4}:\\d{2}:\\d{2}:\\d{2} (\\+|\\-)\\d{4})\\] ((\\\"(GET|POST|HEAD) )(?P<url>.+)(http\\/1\\.1\")) (?P<statuscode>\\d{3}) (?P<bytessent>\\d+) ([\"](?P<referer>(\\-)|(.*))[\"]) ([\"](?P<useragent>.*)[\"])\"\"\", re.IGNORECASE)\n",
      "\n",
      "line_nginx_re = [line_nginx_full_re_old,line_nginx_full_re, line_nginx_wifi_re]"
     ],
     "language": "python",
     "metadata": {
      "run_control": {
       "breakpoint": false
      }
     },
     "outputs": [],
     "prompt_number": 6
    },
    {
     "cell_type": "code",
     "collapsed": false,
     "input": [
      "lines=['189.220.124.15 189.240.144.15 Leydi yazmin vazquez espinosa [31/Dec/2014:08:18:57 -0500] \"GET /home/plugger?w= HTTP/1.1\" 200 4118 \"-\" \"Mozilla/5.0 (SymbianOS/9.4; U; Series60/5.0 Nokia5230-1b/10.2.071; Profile/MIDP-2.1 Configuration/CLDC-1.1 ) AppleWebKit/413 (KHTML, like Gecko) Safari/413\" 526461891499',\n",
      "      '127.10.28.12 187.210.78.12 cancun\\x5Cmanelazaro9 [31/Dec/2014:07:15:12 -0500] \"POST /Microsoft-Server-ActiveSync?User=manelazaro9&DeviceId=C35C97B1215AF7CB3DC6C84A75D30735&DeviceType=SmartPhone&Cmd=GetHierarchy HTTP/1.1\" 404 3951 \"-\" \"MSFT-SPhone/5.2.1310\" -']\n",
      "for regexp in line_nginx_re:\n",
      "    for line in lines:\n",
      "        match = regexp.search(line)\n",
      "        if match:\n",
      "            print 'ok', line [:20]\n",
      "    "
     ],
     "language": "python",
     "metadata": {
      "run_control": {
       "breakpoint": false
      }
     },
     "outputs": [
      {
       "output_type": "stream",
       "stream": "stdout",
       "text": [
        "ok 189.220.124.15 189.2\n",
        "ok 189.220.124.15 189.2\n",
        "ok 189.220.124.15 189.2\n",
        "ok 127.10.28.12 187.210\n"
       ]
      }
     ],
     "prompt_number": 7
    },
    {
     "cell_type": "code",
     "collapsed": false,
     "input": [],
     "language": "python",
     "metadata": {
      "run_control": {
       "breakpoint": false
      }
     },
     "outputs": []
    },
    {
     "cell_type": "code",
     "collapsed": false,
     "input": [
      "sample_strings =['189.254.162.19 189.254.162.19 - [14/Feb/2015:21:38:28 -0500] \"GET /profile/14119369/inbox HTTP/1.1\" 200 3040 \\\n",
      "\"http://mx.plugger.com/home/plugger\" \"Mozilla/5.0 (Linux; U; Android 4.4.2; es-sa; LG-D320 Build/KOT49I.V10a) AppleWebKit/537.36 (KHTML, like Gecko) Version/4.0 Chrome/30.0.1599.103 Mobile Safari/537.36\" \\\n",
      "526142530854 BDFEA213B8166CA395DE005054E006A2 \"-\"',\n",
      "'189.206.114.3 172.16.16.68, 127.0.0.1, 189.206.114.3 - [14/Feb/2015:01:24:02 -0500] \\\n",
      "\"GET /62702/55/51/94/23/00/1400728511.3407_M4s9VAtwuRGPoq_phPe8I/3gp.3gp HTTP/1.1\" 404 162 \\\n",
      "\"http://mx.plugger.com/mymedia/content/32491555\" \\\n",
      "\"Mozilla/5.0 (Linux; U; Android 4.1.2; es-sa; LG-E450f Build/JZO54K) AppleWebKit/534.30 (KHTML, like Gecko) Version/4.0 Mobile Safari/534.30\" \\\n",
      "-']\n",
      "\n",
      "log_formats=[ r'%h %l %u %t \\\"%r\\\" %>s %b \\\"%i\\\" \\\"%{User-Agent}i\\\" %{msisdn}b',\n",
      "    r'%h %l %u %t \\\"%r\\\" %>s %b \\\"%i\\\" \\\"%{User-Agent}i\\\" %{msisdn}b %{hexa}i \\\"%V\\\"',\n",
      "    r'%h %l, %u %t \\\"%r\\\" %>s %b \\\"%i\\\" \\\"%{User-Agent}i\\\" %{msisdn}b',\n",
      "    r'%h %l, %u %u %t \\\"%r\\\" %>s %b \\\"%i\\\" \\\"%{User-Agent}i\\\" %{msisdn}b %{hexa}i \\\"%V\\\"',\n",
      "    r'%h %l, %l, %l %u %t \\\"%r\\\" %>s %b \\\"%i\\\" \\\"%{User-Agent}i\\\" %{msisdn}b',\n",
      "    r'%h %l, %u %u %t \\\"%r\\\" %>s %b \\\"%i\\\" \\\"%{User-Agent}i\\\" %{msisdn}b']\n",
      "#    r'ip1 ip2 ip3 ip4 user %t \\\"req\\\" retcode bytes \\\"ref\\\" \\\"UA\\\" msisdn',\n",
      "\n",
      "\n",
      "log_parsers = []\n",
      "for f in log_formats:\n",
      "    log_parsers.append(apachelog.parser(f))\n",
      "\n",
      "status=False\n",
      "data=[]\n",
      "chk_parsers = (p for p in log_parsers if status is False)\n",
      "for ss in sample_strings:\n",
      "    for p in chk_parsers:\n",
      "        try:\n",
      "            data.append(p.parse(ss))\n",
      "            status=True\n",
      "            break\n",
      "        except ApacheLogParserError, e:\n",
      "    #        print e\n",
      "            pass\n",
      "\n",
      "if status:\n",
      "    print len(data),data\n",
      "else:\n",
      "    print 'Unable to parse this!'"
     ],
     "language": "python",
     "metadata": {},
     "outputs": [
      {
       "output_type": "stream",
       "stream": "stdout",
       "text": [
        "1 [{'%l': '189.254.162.19', '%>s': '200', '%i': 'http://mx.plugger.com/home/plugger', '%h': '189.254.162.19', '%{User-Agent}i': 'Mozilla/5.0 (Linux; U; Android 4.4.2; es-sa; LG-D320 Build/KOT49I.V10a) AppleWebKit/537.36 (KHTML, like Gecko) Version/4.0 Chrome/30.0.1599.103 Mobile Safari/537.36', '%b': '3040', '%{msisdn}b': '526142530854', '%u': '-', '%t': '[14/Feb/2015:21:38:28 -0500]', '%V': '-', '%{hexa}i': 'BDFEA213B8166CA395DE005054E006A2', '%r': 'GET /profile/14119369/inbox HTTP/1.1'}]\n"
       ]
      }
     ],
     "prompt_number": 172
    },
    {
     "cell_type": "markdown",
     "metadata": {},
     "source": [
      "Now let's parse each line while preparing the access time so that pandas will be able to handle it."
     ]
    },
    {
     "cell_type": "code",
     "collapsed": false,
     "input": [
      "log_list = []\n",
      "count=0\n",
      "missed=''\n",
      "\n",
      "with open(file_name) as f:\n",
      "    print 'reading:',file_name\n",
      "\n",
      "    for line in f.readlines():\n",
      "        status=False\n",
      "        chk_parsers = (p for p in log_parsers if status is False)\n",
      "        for p in chk_parsers:\n",
      "            try:\n",
      "                data=p.parse(line)\n",
      "                data['%t'] = data['%t'][1:12]+':'+data['%t'][13:21]+' '+data['%t'][22:27]\n",
      "                log_list.append(data)\n",
      "                status=True\n",
      "            except ApacheLogParserError:\n",
      "                pass\n",
      "\n",
      "#        if len(log_list) > 100:\n",
      "#            break\n",
      "            \n",
      "    if status is False:\n",
      "        count +=1\n",
      "        missed=line\n",
      "print 'read %d lines successfully.'%len(log_list)\n",
      "print 'missed %d lines: %s'%(count,missed)"
     ],
     "language": "python",
     "metadata": {
      "run_control": {
       "breakpoint": false
      }
     },
     "outputs": [
      {
       "output_type": "stream",
       "stream": "stdout",
       "text": [
        "reading: /Users/Nicolas/dev/data/alain/test.log\n",
        "read 1000 lines successfully.\n",
        "missed 0 lines: \n"
       ]
      }
     ],
     "prompt_number": 173
    },
    {
     "cell_type": "code",
     "collapsed": false,
     "input": [
      "df = DataFrame(log_list)\n",
      "df.head(2)"
     ],
     "language": "python",
     "metadata": {},
     "outputs": [
      {
       "html": [
        "<div style=\"max-height:1000px;max-width:1500px;overflow:auto;\">\n",
        "<table border=\"1\" class=\"dataframe\">\n",
        "  <thead>\n",
        "    <tr style=\"text-align: right;\">\n",
        "      <th></th>\n",
        "      <th>%&gt;s</th>\n",
        "      <th>%V</th>\n",
        "      <th>%b</th>\n",
        "      <th>%h</th>\n",
        "      <th>%i</th>\n",
        "      <th>%l</th>\n",
        "      <th>%r</th>\n",
        "      <th>%t</th>\n",
        "      <th>%u</th>\n",
        "      <th>%{User-Agent}i</th>\n",
        "      <th>%{hexa}i</th>\n",
        "      <th>%{msisdn}b</th>\n",
        "    </tr>\n",
        "  </thead>\n",
        "  <tbody>\n",
        "    <tr>\n",
        "      <th>0</th>\n",
        "      <td> 303</td>\n",
        "      <td> -</td>\n",
        "      <td>  551</td>\n",
        "      <td> 200.95.170.204</td>\n",
        "      <td>                                                 -</td>\n",
        "      <td> 200.95.170.204</td>\n",
        "      <td>                           GET /register/ HTTP/1.1</td>\n",
        "      <td> 22/Feb/2015:05:25:02 -0500</td>\n",
        "      <td> -</td>\n",
        "      <td> Mozilla/5.0 (compatible; MSIE 10.0; Windows Ph...</td>\n",
        "      <td> C85FAACCB3E16CA395DD005054E9AE7E</td>\n",
        "      <td> 526141415423</td>\n",
        "    </tr>\n",
        "    <tr>\n",
        "      <th>1</th>\n",
        "      <td> 200</td>\n",
        "      <td> -</td>\n",
        "      <td> 3225</td>\n",
        "      <td> 201.144.162.25</td>\n",
        "      <td> http://mx.plugger.com/friends/search/?query=fu...</td>\n",
        "      <td> 201.144.162.25</td>\n",
        "      <td> GET /friends/search/?query=fuck+me&amp;page=4 HTTP...</td>\n",
        "      <td> 22/Feb/2015:05:25:02 -0500</td>\n",
        "      <td> -</td>\n",
        "      <td> Mozilla/5.0 (Linux; U; Android 4.4.2; es-sa; L...</td>\n",
        "      <td> C990A219C9F96CA395DD005054E9AE7E</td>\n",
        "      <td> 526142772197</td>\n",
        "    </tr>\n",
        "  </tbody>\n",
        "</table>\n",
        "</div>"
       ],
       "metadata": {},
       "output_type": "pyout",
       "prompt_number": 174,
       "text": [
        "   %>s  \\\n",
        "0  303   \n",
        "1  200   \n",
        "\n",
        "  %V  \\\n",
        "0  -   \n",
        "1  -   \n",
        "\n",
        "     %b  \\\n",
        "0   551   \n",
        "1  3225   \n",
        "\n",
        "               %h  \\\n",
        "0  200.95.170.204   \n",
        "1  201.144.162.25   \n",
        "\n",
        "                                                  %i  \\\n",
        "0                                                  -   \n",
        "1  http://mx.plugger.com/friends/search/?query=fu...   \n",
        "\n",
        "               %l  \\\n",
        "0  200.95.170.204   \n",
        "1  201.144.162.25   \n",
        "\n",
        "                                                  %r  \\\n",
        "0                            GET /register/ HTTP/1.1   \n",
        "1  GET /friends/search/?query=fuck+me&page=4 HTTP...   \n",
        "\n",
        "                           %t  \\\n",
        "0  22/Feb/2015:05:25:02 -0500   \n",
        "1  22/Feb/2015:05:25:02 -0500   \n",
        "\n",
        "  %u  \\\n",
        "0  -   \n",
        "1  -   \n",
        "\n",
        "                                      %{User-Agent}i  \\\n",
        "0  Mozilla/5.0 (compatible; MSIE 10.0; Windows Ph...   \n",
        "1  Mozilla/5.0 (Linux; U; Android 4.4.2; es-sa; L...   \n",
        "\n",
        "                           %{hexa}i  \\\n",
        "0  C85FAACCB3E16CA395DD005054E9AE7E   \n",
        "1  C990A219C9F96CA395DD005054E9AE7E   \n",
        "\n",
        "     %{msisdn}b  \n",
        "0  526141415423  \n",
        "1  526142772197  "
       ]
      }
     ],
     "prompt_number": 174
    },
    {
     "cell_type": "code",
     "collapsed": false,
     "input": [
      "df.info()"
     ],
     "language": "python",
     "metadata": {},
     "outputs": [
      {
       "output_type": "stream",
       "stream": "stdout",
       "text": [
        "<class 'pandas.core.frame.DataFrame'>\n",
        "Int64Index: 1000 entries, 0 to 999\n",
        "Data columns (total 12 columns):\n",
        "%>s               1000 non-null object\n",
        "%V                1000 non-null object\n",
        "%b                1000 non-null object\n",
        "%h                1000 non-null object\n",
        "%i                1000 non-null object\n",
        "%l                1000 non-null object\n",
        "%r                1000 non-null object\n",
        "%t                1000 non-null object\n",
        "%u                1000 non-null object\n",
        "%{User-Agent}i    1000 non-null object\n",
        "%{hexa}i          1000 non-null object\n",
        "%{msisdn}b        1000 non-null object\n",
        "dtypes: object(12)\n",
        "memory usage: 101.6+ KB\n"
       ]
      }
     ],
     "prompt_number": 175
    },
    {
     "cell_type": "code",
     "collapsed": false,
     "input": [
      "df['%{msisdn}b'] = df['%{msisdn}b'].apply(xx_msisdn)"
     ],
     "language": "python",
     "metadata": {},
     "outputs": [],
     "prompt_number": 176
    },
    {
     "cell_type": "code",
     "collapsed": false,
     "input": [
      "df['%{msisdn}b'].head()"
     ],
     "language": "python",
     "metadata": {},
     "outputs": [
      {
       "metadata": {},
       "output_type": "pyout",
       "prompt_number": 177,
       "text": [
        "0    68f8c9a97f66\n",
        "1    8dd41fe0ecc3\n",
        "2    68f8c9a97f66\n",
        "3    aa89482d5567\n",
        "4    b1d83a79192f\n",
        "Name: %{msisdn}b, dtype: object"
       ]
      }
     ],
     "prompt_number": 177
    },
    {
     "cell_type": "code",
     "collapsed": false,
     "input": [
      "cols=['%h','%l','%u']\n",
      "for c in cols:\n",
      "    try:\n",
      "        df[c] = df[c].apply(xx_ip)#lambda x: xx_ip(x,hexa=True))\n",
      "    except:\n",
      "        print 'pb with col (%s)'%c"
     ],
     "language": "python",
     "metadata": {},
     "outputs": [],
     "prompt_number": 178
    },
    {
     "cell_type": "code",
     "collapsed": false,
     "input": [
      "with open(file_name+'.a','w') as f:\n",
      "    for r in arange(0,len(df)):\n",
      "        line=''\n",
      "        for c in allcols:\n",
      "            s=df.loc[r][c]\n",
      "            if c=='%t':\n",
      "                s='[%s]'%s\n",
      "            elif c=='%{User-Agent}i' or c=='%i' or c=='%r':\n",
      "                s = '\\\"%s\\\"'%s\n",
      "            line += s+' '\n",
      "        f.write(line+'\\n')"
     ],
     "language": "python",
     "metadata": {},
     "outputs": [],
     "prompt_number": 179
    },
    {
     "cell_type": "code",
     "collapsed": false,
     "input": [
      "!head -n 3 {file_name+'.a'}"
     ],
     "language": "python",
     "metadata": {},
     "outputs": [
      {
       "output_type": "stream",
       "stream": "stdout",
       "text": [
        "113.28.240.96 113.28.240.96 - [22/Feb/2015:05:25:02 -0500] \"GET /register/ HTTP/1.1\" 303 551 \"-\" \"Mozilla/5.0 (compatible; MSIE 10.0; Windows Phone 8.0; Trident/6.0; IEMobile/10.0; ARM; Touch; NOKIA; Lumia 520)\" 68f8c9a97f66 \r\n",
        "164.20.63.97 164.20.63.97 - [22/Feb/2015:05:25:02 -0500] \"GET /friends/search/?query=fuck+me&page=4 HTTP/1.1\" 200 3225 \"http://mx.plugger.com/friends/search/?query=fuck+me&page=3\" \"Mozilla/5.0 (Linux; U; Android 4.4.2; es-sa; LG-D280 Build/KOT49I.V10a) AppleWebKit/537.36 (KHTML, like Gecko) Version/4.0 Chrome/30.0.1599.103 Mobile Safari/537.36\" 8dd41fe0ecc3 \r\n",
        "113.28.240.96 113.28.240.96 - [22/Feb/2015:05:25:02 -0500] \"GET /home/plugger HTTP/1.1\" 200 3538 \"-\" \"Mozilla/5.0 (compatible; MSIE 10.0; Windows Phone 8.0; Trident/6.0; IEMobile/10.0; ARM; Touch; NOKIA; Lumia 520)\" 68f8c9a97f66 \r\n"
       ]
      }
     ],
     "prompt_number": 180
    },
    {
     "cell_type": "code",
     "collapsed": false,
     "input": [
      "df.info()"
     ],
     "language": "python",
     "metadata": {},
     "outputs": [
      {
       "output_type": "stream",
       "stream": "stdout",
       "text": [
        "<class 'pandas.core.frame.DataFrame'>\n",
        "Int64Index: 1000 entries, 0 to 999\n",
        "Data columns (total 12 columns):\n",
        "%>s               1000 non-null object\n",
        "%V                1000 non-null object\n",
        "%b                1000 non-null object\n",
        "%h                1000 non-null object\n",
        "%i                1000 non-null object\n",
        "%l                1000 non-null object\n",
        "%r                1000 non-null object\n",
        "%t                1000 non-null object\n",
        "%u                1000 non-null object\n",
        "%{User-Agent}i    1000 non-null object\n",
        "%{hexa}i          1000 non-null object\n",
        "%{msisdn}b        1000 non-null object\n",
        "dtypes: object(12)\n",
        "memory usage: 101.6+ KB\n"
       ]
      }
     ],
     "prompt_number": 181
    },
    {
     "cell_type": "heading",
     "level": 2,
     "metadata": {},
     "source": [
      "We're done!"
     ]
    },
    {
     "cell_type": "code",
     "collapsed": false,
     "input": [],
     "language": "python",
     "metadata": {},
     "outputs": []
    }
   ],
   "metadata": {}
  }
 ]
}