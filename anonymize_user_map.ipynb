{
 "metadata": {
  "name": "",
  "signature": "sha256:607a2cc4ac3e614a91d925bde464ac7b1820bd765243fa56079b5128615009f9"
 },
 "nbformat": 3,
 "nbformat_minor": 0,
 "worksheets": [
  {
   "cells": [
    {
     "cell_type": "markdown",
     "metadata": {},
     "source": [
      "# Anonymize the user_map\n",
      "Generates a hash table (in csv) to map the user_id or msisdn to a common hash\n",
      "The user_map is a select on smp_user for all users"
     ]
    },
    {
     "cell_type": "code",
     "collapsed": false,
     "input": [
      "import sys\n",
      "import csv\n",
      "import StringIO\n",
      "import pandas as pd\n",
      "import numpy as np\n",
      "\n",
      "sys.path.append('./code')\n",
      "from crypto import xx_msisdn,xx_ip"
     ],
     "language": "python",
     "metadata": {
      "run_control": {
       "breakpoint": false
      }
     },
     "outputs": [],
     "prompt_number": 5
    },
    {
     "cell_type": "code",
     "collapsed": false,
     "input": [
      "user_fn=_rootdir+'data/smp_user_map.csv'"
     ],
     "language": "python",
     "metadata": {},
     "outputs": [],
     "prompt_number": 6
    },
    {
     "cell_type": "markdown",
     "metadata": {},
     "source": [
      "## Read user file"
     ]
    },
    {
     "cell_type": "code",
     "collapsed": false,
     "input": [
      "#df_user=0 # uncomment this line to reload the content_df\n",
      "try:\n",
      "    print df_user.msisdn.count()\n",
      "except:\n",
      "    df_user=pd.read_csv(user_fn,\n",
      "                 sep='\\t',\n",
      "                 encoding='utf-8',\n",
      "                 header=1, names=['user_id','msisdn','state','oid','area','joined','last_seen']\n",
      "                 )\n",
      "\n",
      "    df_user['msisdn']=df_user['msisdn'].astype(str)\n",
      "#    df_user=df_user[df_user['state']==1]\n",
      "\n",
      "print df_user.msisdn.describe()\n",
      "#df_user=df_user.set_index('msisdn')\n",
      "##\n",
      "df_user.head(3)\n"
     ],
     "language": "python",
     "metadata": {
      "run_control": {
       "breakpoint": false
      }
     },
     "outputs": [
      {
       "output_type": "stream",
       "stream": "stdout",
       "text": [
        "count          22073114\n",
        "unique         22073114\n",
        "top       5493584282324\n",
        "freq                  1\n",
        "Name: msisdn, dtype: object\n"
       ]
      },
      {
       "html": [
        "<div style=\"max-height:1000px;max-width:1500px;overflow:auto;\">\n",
        "<table border=\"1\" class=\"dataframe\">\n",
        "  <thead>\n",
        "    <tr style=\"text-align: right;\">\n",
        "      <th></th>\n",
        "      <th>user_id</th>\n",
        "      <th>msisdn</th>\n",
        "      <th>state</th>\n",
        "      <th>oid</th>\n",
        "      <th>area</th>\n",
        "      <th>joined</th>\n",
        "      <th>last_seen</th>\n",
        "    </tr>\n",
        "  </thead>\n",
        "  <tbody>\n",
        "    <tr>\n",
        "      <th>0</th>\n",
        "      <td> 2</td>\n",
        "      <td>       76781</td>\n",
        "      <td> 1</td>\n",
        "      <td> 10</td>\n",
        "      <td> 78</td>\n",
        "      <td> 2009-02-03</td>\n",
        "      <td> 2011-05-11</td>\n",
        "    </tr>\n",
        "    <tr>\n",
        "      <th>1</th>\n",
        "      <td> 3</td>\n",
        "      <td>           1</td>\n",
        "      <td> 1</td>\n",
        "      <td> 26</td>\n",
        "      <td>NaN</td>\n",
        "      <td> 2009-05-08</td>\n",
        "      <td> 2009-05-29</td>\n",
        "    </tr>\n",
        "    <tr>\n",
        "      <th>2</th>\n",
        "      <td> 5</td>\n",
        "      <td> 15143457905</td>\n",
        "      <td> 1</td>\n",
        "      <td> 26</td>\n",
        "      <td> 14</td>\n",
        "      <td> 2009-11-19</td>\n",
        "      <td> 2009-11-20</td>\n",
        "    </tr>\n",
        "  </tbody>\n",
        "</table>\n",
        "</div>"
       ],
       "metadata": {},
       "output_type": "pyout",
       "prompt_number": 7,
       "text": [
        "   user_id  \\\n",
        "0        2   \n",
        "1        3   \n",
        "2        5   \n",
        "\n",
        "        msisdn  \\\n",
        "0        76781   \n",
        "1            1   \n",
        "2  15143457905   \n",
        "\n",
        "   state  \\\n",
        "0      1   \n",
        "1      1   \n",
        "2      1   \n",
        "\n",
        "   oid  \\\n",
        "0   10   \n",
        "1   26   \n",
        "2   26   \n",
        "\n",
        "   area  \\\n",
        "0    78   \n",
        "1   NaN   \n",
        "2    14   \n",
        "\n",
        "       joined  \\\n",
        "0  2009-02-03   \n",
        "1  2009-05-08   \n",
        "2  2009-11-19   \n",
        "\n",
        "    last_seen  \n",
        "0  2011-05-11  \n",
        "1  2009-05-29  \n",
        "2  2009-11-20  "
       ]
      }
     ],
     "prompt_number": 7
    },
    {
     "cell_type": "code",
     "collapsed": false,
     "input": [
      "df_user=df_user.dropna()"
     ],
     "language": "python",
     "metadata": {
      "run_control": {
       "breakpoint": false
      }
     },
     "outputs": [],
     "prompt_number": 8
    },
    {
     "cell_type": "raw",
     "metadata": {},
     "source": [
      "df_user.info()"
     ]
    },
    {
     "cell_type": "code",
     "collapsed": false,
     "input": [
      "# if we want to filter..\n",
      "#criterion = df_user['msisdn'].map(lambda x: (str(x).startswith('5255'))) #or  str(x).startswith('5223')\n",
      "#df_user=df_user[criterion]"
     ],
     "language": "python",
     "metadata": {
      "run_control": {
       "breakpoint": false
      }
     },
     "outputs": [],
     "prompt_number": 9
    },
    {
     "cell_type": "code",
     "collapsed": false,
     "input": [
      "# number of users \n",
      "print 'The dataset has %d users'%len(df_user['msisdn'])"
     ],
     "language": "python",
     "metadata": {
      "run_control": {
       "breakpoint": false
      }
     },
     "outputs": [
      {
       "output_type": "stream",
       "stream": "stdout",
       "text": [
        "The dataset has 22073072 users\n"
       ]
      }
     ],
     "prompt_number": 10
    },
    {
     "cell_type": "code",
     "collapsed": false,
     "input": [
      "# count by operator id (oid)\n",
      "df_user[df_user.state>0].groupby(['oid']).msisdn.agg('count')"
     ],
     "language": "python",
     "metadata": {},
     "outputs": [
      {
       "metadata": {},
       "output_type": "pyout",
       "prompt_number": 11,
       "text": [
        "oid\n",
        "1           223\n",
        "10     11687894\n",
        "14        40778\n",
        "15      1237417\n",
        "16        13294\n",
        "18        85327\n",
        "19       895956\n",
        "20       546831\n",
        "21       225164\n",
        "22        13547\n",
        "23        16787\n",
        "24       151293\n",
        "25            1\n",
        "26       111920\n",
        "27        51858\n",
        "29        55400\n",
        "30        78125\n",
        "31           14\n",
        "33         4336\n",
        "Name: msisdn, dtype: int64"
       ]
      }
     ],
     "prompt_number": 11
    },
    {
     "cell_type": "code",
     "collapsed": false,
     "input": [
      "df_user['joined']=pd.to_datetime(df_user['joined'])\n",
      "df_user['last_seen']=pd.to_datetime(df_user['last_seen'])"
     ],
     "language": "python",
     "metadata": {},
     "outputs": [],
     "prompt_number": 12
    },
    {
     "cell_type": "code",
     "collapsed": false,
     "input": [
      "df_user['hash'] =df_user['msisdn'].map(xx_msisdn)\n",
      "\n",
      "print len(df_user['hash'].unique())\n",
      "df_user.head(3)"
     ],
     "language": "python",
     "metadata": {
      "run_control": {
       "breakpoint": false
      }
     },
     "outputs": [
      {
       "output_type": "stream",
       "stream": "stdout",
       "text": [
        "22073072\n"
       ]
      },
      {
       "html": [
        "<div style=\"max-height:1000px;max-width:1500px;overflow:auto;\">\n",
        "<table border=\"1\" class=\"dataframe\">\n",
        "  <thead>\n",
        "    <tr style=\"text-align: right;\">\n",
        "      <th></th>\n",
        "      <th>user_id</th>\n",
        "      <th>msisdn</th>\n",
        "      <th>state</th>\n",
        "      <th>oid</th>\n",
        "      <th>area</th>\n",
        "      <th>joined</th>\n",
        "      <th>last_seen</th>\n",
        "      <th>hash</th>\n",
        "    </tr>\n",
        "  </thead>\n",
        "  <tbody>\n",
        "    <tr>\n",
        "      <th>0</th>\n",
        "      <td>  2</td>\n",
        "      <td>       76781</td>\n",
        "      <td> 1</td>\n",
        "      <td> 10</td>\n",
        "      <td> 78</td>\n",
        "      <td> 2009-02-03</td>\n",
        "      <td> 2011-05-11</td>\n",
        "      <td> 89665d7a8f9a0ba4</td>\n",
        "    </tr>\n",
        "    <tr>\n",
        "      <th>2</th>\n",
        "      <td>  5</td>\n",
        "      <td> 15143457905</td>\n",
        "      <td> 1</td>\n",
        "      <td> 26</td>\n",
        "      <td> 14</td>\n",
        "      <td> 2009-11-19</td>\n",
        "      <td> 2009-11-20</td>\n",
        "      <td> fbe3e97744f4693d</td>\n",
        "    </tr>\n",
        "    <tr>\n",
        "      <th>3</th>\n",
        "      <td> 10</td>\n",
        "      <td> 15143457910</td>\n",
        "      <td> 1</td>\n",
        "      <td> 10</td>\n",
        "      <td> 14</td>\n",
        "      <td> 2009-11-20</td>\n",
        "      <td> 2009-12-02</td>\n",
        "      <td> e0e598da7734adc1</td>\n",
        "    </tr>\n",
        "  </tbody>\n",
        "</table>\n",
        "</div>"
       ],
       "metadata": {},
       "output_type": "pyout",
       "prompt_number": 13,
       "text": [
        "   user_id  \\\n",
        "0        2   \n",
        "2        5   \n",
        "3       10   \n",
        "\n",
        "        msisdn  \\\n",
        "0        76781   \n",
        "2  15143457905   \n",
        "3  15143457910   \n",
        "\n",
        "   state  \\\n",
        "0      1   \n",
        "2      1   \n",
        "3      1   \n",
        "\n",
        "   oid  \\\n",
        "0   10   \n",
        "2   26   \n",
        "3   10   \n",
        "\n",
        "   area  \\\n",
        "0    78   \n",
        "2    14   \n",
        "3    14   \n",
        "\n",
        "       joined  \\\n",
        "0  2009-02-03   \n",
        "2  2009-11-19   \n",
        "3  2009-11-20   \n",
        "\n",
        "    last_seen  \\\n",
        "0  2011-05-11   \n",
        "2  2009-11-20   \n",
        "3  2009-12-02   \n",
        "\n",
        "               hash  \n",
        "0  89665d7a8f9a0ba4  \n",
        "2  fbe3e97744f4693d  \n",
        "3  e0e598da7734adc1  "
       ]
      }
     ],
     "prompt_number": 13
    },
    {
     "cell_type": "code",
     "collapsed": false,
     "input": [
      "df_user[df_user.duplicated('hash')].hash"
     ],
     "language": "python",
     "metadata": {
      "run_control": {
       "breakpoint": false
      }
     },
     "outputs": [
      {
       "metadata": {},
       "output_type": "pyout",
       "prompt_number": 14,
       "text": [
        "Series([], name: hash, dtype: object)"
       ]
      }
     ],
     "prompt_number": 14
    },
    {
     "cell_type": "code",
     "collapsed": false,
     "input": [
      "df_user[df_user.msisdn.map(lambda x:  x in ['573107312744','524981100569'])]"
     ],
     "language": "python",
     "metadata": {
      "run_control": {
       "breakpoint": false
      }
     },
     "outputs": [
      {
       "html": [
        "<div style=\"max-height:1000px;max-width:1500px;overflow:auto;\">\n",
        "<table border=\"1\" class=\"dataframe\">\n",
        "  <thead>\n",
        "    <tr style=\"text-align: right;\">\n",
        "      <th></th>\n",
        "      <th>user_id</th>\n",
        "      <th>msisdn</th>\n",
        "      <th>state</th>\n",
        "      <th>oid</th>\n",
        "      <th>area</th>\n",
        "      <th>joined</th>\n",
        "      <th>last_seen</th>\n",
        "      <th>hash</th>\n",
        "    </tr>\n",
        "  </thead>\n",
        "  <tbody>\n",
        "    <tr>\n",
        "      <th>3579641 </th>\n",
        "      <td>  4187203</td>\n",
        "      <td> 573107312744</td>\n",
        "      <td> 1</td>\n",
        "      <td> 15</td>\n",
        "      <td> 31</td>\n",
        "      <td> 2012-09-22</td>\n",
        "      <td> 2013-07-07</td>\n",
        "      <td> 1d18516b1b718378</td>\n",
        "    </tr>\n",
        "    <tr>\n",
        "      <th>14772529</th>\n",
        "      <td> 17695216</td>\n",
        "      <td> 524981100569</td>\n",
        "      <td> 1</td>\n",
        "      <td> 10</td>\n",
        "      <td> 49</td>\n",
        "      <td> 2014-03-20</td>\n",
        "      <td> 2014-03-20</td>\n",
        "      <td> 1d18516b1b71d3fe</td>\n",
        "    </tr>\n",
        "  </tbody>\n",
        "</table>\n",
        "</div>"
       ],
       "metadata": {},
       "output_type": "pyout",
       "prompt_number": 15,
       "text": [
        "           user_id  \\\n",
        "3579641    4187203   \n",
        "14772529  17695216   \n",
        "\n",
        "                msisdn  \\\n",
        "3579641   573107312744   \n",
        "14772529  524981100569   \n",
        "\n",
        "          state  \\\n",
        "3579641       1   \n",
        "14772529      1   \n",
        "\n",
        "          oid  \\\n",
        "3579641    15   \n",
        "14772529   10   \n",
        "\n",
        "          area  \\\n",
        "3579641     31   \n",
        "14772529    49   \n",
        "\n",
        "              joined  \\\n",
        "3579641   2012-09-22   \n",
        "14772529  2014-03-20   \n",
        "\n",
        "           last_seen  \\\n",
        "3579641   2013-07-07   \n",
        "14772529  2014-03-20   \n",
        "\n",
        "                      hash  \n",
        "3579641   1d18516b1b718378  \n",
        "14772529  1d18516b1b71d3fe  "
       ]
      }
     ],
     "prompt_number": 15
    },
    {
     "cell_type": "markdown",
     "metadata": {},
     "source": [
      "##Saving user file\n",
      "(takes a while, get a coffee!)"
     ]
    },
    {
     "cell_type": "code",
     "collapsed": false,
     "input": [
      "#file_name='/Users/nicolas/logs/nobackup/sessions23.pv.csv'\n",
      "fn_out='.'.join(user_fn.split('.')[:-1])+'.map.csv'\n",
      "print 'saving to',fn_out\n",
      "df_user['hash','user_id','msisdn','state','oid','area','joined','last_seen'].to_csv(fn_out, encoding='utf-8', index=False)\n",
      "!head -n 3 {fn_out}"
     ],
     "language": "python",
     "metadata": {
      "run_control": {
       "breakpoint": false
      }
     },
     "outputs": [
      {
       "output_type": "stream",
       "stream": "stdout",
       "text": [
        "saving to /Users/Nicolas/dev/data/smp_user_map.map.csv\n",
        "user_id,msisdn,state,oid,area,joined,last_seen,hash\r\n",
        "2,76781,1,10,78.0,2009-02-03,2011-05-11,89665d7a8f9a0ba4\r\n",
        "5,15143457905,1,26,14.0,2009-11-19,2009-11-20,fbe3e97744f4693d\r\n"
       ]
      }
     ],
     "prompt_number": 18
    },
    {
     "cell_type": "code",
     "collapsed": false,
     "input": [
      "#file_name='/Users/nicolas/logs/nobackup/sessions23.pv.csv'\n",
      "fn_out='.'.join(user_fn.split('.')[:-1])+'.a.csv'\n",
      "print 'saving to',fn_out\n",
      "df_user['uid','state','oid','area','joined','last_seen'].to_csv(fn_out, encoding='utf-8', index=False)\n",
      "!head -n 3 {fn_out}"
     ],
     "language": "python",
     "metadata": {
      "run_control": {
       "breakpoint": false
      }
     },
     "outputs": [
      {
       "output_type": "stream",
       "stream": "stdout",
       "text": [
        "saving to /Users/Nicolas/dev/data/smp_user_map.a.csv\n"
       ]
      },
      {
       "ename": "KeyError",
       "evalue": "('uid', 'state', 'oid', 'area', 'joined', 'last_seen')",
       "output_type": "pyerr",
       "traceback": [
        "\u001b[0;31m---------------------------------------------------------------------------\u001b[0m\n\u001b[0;31mKeyError\u001b[0m                                  Traceback (most recent call last)",
        "\u001b[0;32m<ipython-input-19-d178be13420c>\u001b[0m in \u001b[0;36m<module>\u001b[0;34m()\u001b[0m\n\u001b[1;32m      2\u001b[0m \u001b[0mfn_out\u001b[0m\u001b[0;34m=\u001b[0m\u001b[0;34m'.'\u001b[0m\u001b[0;34m.\u001b[0m\u001b[0mjoin\u001b[0m\u001b[0;34m(\u001b[0m\u001b[0muser_fn\u001b[0m\u001b[0;34m.\u001b[0m\u001b[0msplit\u001b[0m\u001b[0;34m(\u001b[0m\u001b[0;34m'.'\u001b[0m\u001b[0;34m)\u001b[0m\u001b[0;34m[\u001b[0m\u001b[0;34m:\u001b[0m\u001b[0;34m-\u001b[0m\u001b[0;36m1\u001b[0m\u001b[0;34m]\u001b[0m\u001b[0;34m)\u001b[0m\u001b[0;34m+\u001b[0m\u001b[0;34m'.a.csv'\u001b[0m\u001b[0;34m\u001b[0m\u001b[0m\n\u001b[1;32m      3\u001b[0m \u001b[0;32mprint\u001b[0m \u001b[0;34m'saving to'\u001b[0m\u001b[0;34m,\u001b[0m\u001b[0mfn_out\u001b[0m\u001b[0;34m\u001b[0m\u001b[0m\n\u001b[0;32m----> 4\u001b[0;31m \u001b[0mdf_user\u001b[0m\u001b[0;34m[\u001b[0m\u001b[0;34m'uid'\u001b[0m\u001b[0;34m,\u001b[0m\u001b[0;34m'state'\u001b[0m\u001b[0;34m,\u001b[0m\u001b[0;34m'oid'\u001b[0m\u001b[0;34m,\u001b[0m\u001b[0;34m'area'\u001b[0m\u001b[0;34m,\u001b[0m\u001b[0;34m'joined'\u001b[0m\u001b[0;34m,\u001b[0m\u001b[0;34m'last_seen'\u001b[0m\u001b[0;34m]\u001b[0m\u001b[0;34m.\u001b[0m\u001b[0mto_csv\u001b[0m\u001b[0;34m(\u001b[0m\u001b[0mfn_out\u001b[0m\u001b[0;34m,\u001b[0m \u001b[0mencoding\u001b[0m\u001b[0;34m=\u001b[0m\u001b[0;34m'utf-8'\u001b[0m\u001b[0;34m,\u001b[0m \u001b[0mindex\u001b[0m\u001b[0;34m=\u001b[0m\u001b[0mFalse\u001b[0m\u001b[0;34m)\u001b[0m\u001b[0;34m\u001b[0m\u001b[0m\n\u001b[0m\u001b[1;32m      5\u001b[0m \u001b[0mget_ipython\u001b[0m\u001b[0;34m(\u001b[0m\u001b[0;34m)\u001b[0m\u001b[0;34m.\u001b[0m\u001b[0msystem\u001b[0m\u001b[0;34m(\u001b[0m\u001b[0;34mu'head -n 3 {fn_out}'\u001b[0m\u001b[0;34m)\u001b[0m\u001b[0;34m\u001b[0m\u001b[0m\n",
        "\u001b[0;32m/Users/nicolas/anaconda/lib/python2.7/site-packages/pandas/core/frame.pyc\u001b[0m in \u001b[0;36m__getitem__\u001b[0;34m(self, key)\u001b[0m\n\u001b[1;32m   1778\u001b[0m             \u001b[0;32mreturn\u001b[0m \u001b[0mself\u001b[0m\u001b[0;34m.\u001b[0m\u001b[0m_getitem_multilevel\u001b[0m\u001b[0;34m(\u001b[0m\u001b[0mkey\u001b[0m\u001b[0;34m)\u001b[0m\u001b[0;34m\u001b[0m\u001b[0m\n\u001b[1;32m   1779\u001b[0m         \u001b[0;32melse\u001b[0m\u001b[0;34m:\u001b[0m\u001b[0;34m\u001b[0m\u001b[0m\n\u001b[0;32m-> 1780\u001b[0;31m             \u001b[0;32mreturn\u001b[0m \u001b[0mself\u001b[0m\u001b[0;34m.\u001b[0m\u001b[0m_getitem_column\u001b[0m\u001b[0;34m(\u001b[0m\u001b[0mkey\u001b[0m\u001b[0;34m)\u001b[0m\u001b[0;34m\u001b[0m\u001b[0m\n\u001b[0m\u001b[1;32m   1781\u001b[0m \u001b[0;34m\u001b[0m\u001b[0m\n\u001b[1;32m   1782\u001b[0m     \u001b[0;32mdef\u001b[0m \u001b[0m_getitem_column\u001b[0m\u001b[0;34m(\u001b[0m\u001b[0mself\u001b[0m\u001b[0;34m,\u001b[0m \u001b[0mkey\u001b[0m\u001b[0;34m)\u001b[0m\u001b[0;34m:\u001b[0m\u001b[0;34m\u001b[0m\u001b[0m\n",
        "\u001b[0;32m/Users/nicolas/anaconda/lib/python2.7/site-packages/pandas/core/frame.pyc\u001b[0m in \u001b[0;36m_getitem_column\u001b[0;34m(self, key)\u001b[0m\n\u001b[1;32m   1785\u001b[0m         \u001b[0;31m# get column\u001b[0m\u001b[0;34m\u001b[0m\u001b[0;34m\u001b[0m\u001b[0m\n\u001b[1;32m   1786\u001b[0m         \u001b[0;32mif\u001b[0m \u001b[0mself\u001b[0m\u001b[0;34m.\u001b[0m\u001b[0mcolumns\u001b[0m\u001b[0;34m.\u001b[0m\u001b[0mis_unique\u001b[0m\u001b[0;34m:\u001b[0m\u001b[0;34m\u001b[0m\u001b[0m\n\u001b[0;32m-> 1787\u001b[0;31m             \u001b[0;32mreturn\u001b[0m \u001b[0mself\u001b[0m\u001b[0;34m.\u001b[0m\u001b[0m_get_item_cache\u001b[0m\u001b[0;34m(\u001b[0m\u001b[0mkey\u001b[0m\u001b[0;34m)\u001b[0m\u001b[0;34m\u001b[0m\u001b[0m\n\u001b[0m\u001b[1;32m   1788\u001b[0m \u001b[0;34m\u001b[0m\u001b[0m\n\u001b[1;32m   1789\u001b[0m         \u001b[0;31m# duplicate columns & possible reduce dimensionaility\u001b[0m\u001b[0;34m\u001b[0m\u001b[0;34m\u001b[0m\u001b[0m\n",
        "\u001b[0;32m/Users/nicolas/anaconda/lib/python2.7/site-packages/pandas/core/generic.pyc\u001b[0m in \u001b[0;36m_get_item_cache\u001b[0;34m(self, item)\u001b[0m\n\u001b[1;32m   1066\u001b[0m         \u001b[0mres\u001b[0m \u001b[0;34m=\u001b[0m \u001b[0mcache\u001b[0m\u001b[0;34m.\u001b[0m\u001b[0mget\u001b[0m\u001b[0;34m(\u001b[0m\u001b[0mitem\u001b[0m\u001b[0;34m)\u001b[0m\u001b[0;34m\u001b[0m\u001b[0m\n\u001b[1;32m   1067\u001b[0m         \u001b[0;32mif\u001b[0m \u001b[0mres\u001b[0m \u001b[0;32mis\u001b[0m \u001b[0mNone\u001b[0m\u001b[0;34m:\u001b[0m\u001b[0;34m\u001b[0m\u001b[0m\n\u001b[0;32m-> 1068\u001b[0;31m             \u001b[0mvalues\u001b[0m \u001b[0;34m=\u001b[0m \u001b[0mself\u001b[0m\u001b[0;34m.\u001b[0m\u001b[0m_data\u001b[0m\u001b[0;34m.\u001b[0m\u001b[0mget\u001b[0m\u001b[0;34m(\u001b[0m\u001b[0mitem\u001b[0m\u001b[0;34m)\u001b[0m\u001b[0;34m\u001b[0m\u001b[0m\n\u001b[0m\u001b[1;32m   1069\u001b[0m             \u001b[0mres\u001b[0m \u001b[0;34m=\u001b[0m \u001b[0mself\u001b[0m\u001b[0;34m.\u001b[0m\u001b[0m_box_item_values\u001b[0m\u001b[0;34m(\u001b[0m\u001b[0mitem\u001b[0m\u001b[0;34m,\u001b[0m \u001b[0mvalues\u001b[0m\u001b[0;34m)\u001b[0m\u001b[0;34m\u001b[0m\u001b[0m\n\u001b[1;32m   1070\u001b[0m             \u001b[0mcache\u001b[0m\u001b[0;34m[\u001b[0m\u001b[0mitem\u001b[0m\u001b[0;34m]\u001b[0m \u001b[0;34m=\u001b[0m \u001b[0mres\u001b[0m\u001b[0;34m\u001b[0m\u001b[0m\n",
        "\u001b[0;32m/Users/nicolas/anaconda/lib/python2.7/site-packages/pandas/core/internals.pyc\u001b[0m in \u001b[0;36mget\u001b[0;34m(self, item, fastpath)\u001b[0m\n\u001b[1;32m   2847\u001b[0m \u001b[0;34m\u001b[0m\u001b[0m\n\u001b[1;32m   2848\u001b[0m             \u001b[0;32mif\u001b[0m \u001b[0;32mnot\u001b[0m \u001b[0misnull\u001b[0m\u001b[0;34m(\u001b[0m\u001b[0mitem\u001b[0m\u001b[0;34m)\u001b[0m\u001b[0;34m:\u001b[0m\u001b[0;34m\u001b[0m\u001b[0m\n\u001b[0;32m-> 2849\u001b[0;31m                 \u001b[0mloc\u001b[0m \u001b[0;34m=\u001b[0m \u001b[0mself\u001b[0m\u001b[0;34m.\u001b[0m\u001b[0mitems\u001b[0m\u001b[0;34m.\u001b[0m\u001b[0mget_loc\u001b[0m\u001b[0;34m(\u001b[0m\u001b[0mitem\u001b[0m\u001b[0;34m)\u001b[0m\u001b[0;34m\u001b[0m\u001b[0m\n\u001b[0m\u001b[1;32m   2850\u001b[0m             \u001b[0;32melse\u001b[0m\u001b[0;34m:\u001b[0m\u001b[0;34m\u001b[0m\u001b[0m\n\u001b[1;32m   2851\u001b[0m                 \u001b[0mindexer\u001b[0m \u001b[0;34m=\u001b[0m \u001b[0mnp\u001b[0m\u001b[0;34m.\u001b[0m\u001b[0marange\u001b[0m\u001b[0;34m(\u001b[0m\u001b[0mlen\u001b[0m\u001b[0;34m(\u001b[0m\u001b[0mself\u001b[0m\u001b[0;34m.\u001b[0m\u001b[0mitems\u001b[0m\u001b[0;34m)\u001b[0m\u001b[0;34m)\u001b[0m\u001b[0;34m[\u001b[0m\u001b[0misnull\u001b[0m\u001b[0;34m(\u001b[0m\u001b[0mself\u001b[0m\u001b[0;34m.\u001b[0m\u001b[0mitems\u001b[0m\u001b[0;34m)\u001b[0m\u001b[0;34m]\u001b[0m\u001b[0;34m\u001b[0m\u001b[0m\n",
        "\u001b[0;32m/Users/nicolas/anaconda/lib/python2.7/site-packages/pandas/core/index.pyc\u001b[0m in \u001b[0;36mget_loc\u001b[0;34m(self, key)\u001b[0m\n\u001b[1;32m   1400\u001b[0m         \u001b[0mloc\u001b[0m \u001b[0;34m:\u001b[0m \u001b[0mint\u001b[0m \u001b[0;32mif\u001b[0m \u001b[0munique\u001b[0m \u001b[0mindex\u001b[0m\u001b[0;34m,\u001b[0m \u001b[0mpossibly\u001b[0m \u001b[0mslice\u001b[0m \u001b[0;32mor\u001b[0m \u001b[0mmask\u001b[0m \u001b[0;32mif\u001b[0m \u001b[0;32mnot\u001b[0m\u001b[0;34m\u001b[0m\u001b[0m\n\u001b[1;32m   1401\u001b[0m         \"\"\"\n\u001b[0;32m-> 1402\u001b[0;31m         \u001b[0;32mreturn\u001b[0m \u001b[0mself\u001b[0m\u001b[0;34m.\u001b[0m\u001b[0m_engine\u001b[0m\u001b[0;34m.\u001b[0m\u001b[0mget_loc\u001b[0m\u001b[0;34m(\u001b[0m\u001b[0m_values_from_object\u001b[0m\u001b[0;34m(\u001b[0m\u001b[0mkey\u001b[0m\u001b[0;34m)\u001b[0m\u001b[0;34m)\u001b[0m\u001b[0;34m\u001b[0m\u001b[0m\n\u001b[0m\u001b[1;32m   1403\u001b[0m \u001b[0;34m\u001b[0m\u001b[0m\n\u001b[1;32m   1404\u001b[0m     \u001b[0;32mdef\u001b[0m \u001b[0mget_value\u001b[0m\u001b[0;34m(\u001b[0m\u001b[0mself\u001b[0m\u001b[0;34m,\u001b[0m \u001b[0mseries\u001b[0m\u001b[0;34m,\u001b[0m \u001b[0mkey\u001b[0m\u001b[0;34m)\u001b[0m\u001b[0;34m:\u001b[0m\u001b[0;34m\u001b[0m\u001b[0m\n",
        "\u001b[0;32m/Users/nicolas/anaconda/lib/python2.7/site-packages/pandas/index.so\u001b[0m in \u001b[0;36mpandas.index.IndexEngine.get_loc (pandas/index.c:3807)\u001b[0;34m()\u001b[0m\n",
        "\u001b[0;32m/Users/nicolas/anaconda/lib/python2.7/site-packages/pandas/index.so\u001b[0m in \u001b[0;36mpandas.index.IndexEngine.get_loc (pandas/index.c:3687)\u001b[0;34m()\u001b[0m\n",
        "\u001b[0;32m/Users/nicolas/anaconda/lib/python2.7/site-packages/pandas/hashtable.so\u001b[0m in \u001b[0;36mpandas.hashtable.PyObjectHashTable.get_item (pandas/hashtable.c:12310)\u001b[0;34m()\u001b[0m\n",
        "\u001b[0;32m/Users/nicolas/anaconda/lib/python2.7/site-packages/pandas/hashtable.so\u001b[0m in \u001b[0;36mpandas.hashtable.PyObjectHashTable.get_item (pandas/hashtable.c:12261)\u001b[0;34m()\u001b[0m\n",
        "\u001b[0;31mKeyError\u001b[0m: ('uid', 'state', 'oid', 'area', 'joined', 'last_seen')"
       ]
      }
     ],
     "prompt_number": 19
    },
    {
     "cell_type": "code",
     "collapsed": false,
     "input": [
      "!tail -n 3 {fn_out}"
     ],
     "language": "python",
     "metadata": {
      "run_control": {
       "breakpoint": false
      }
     },
     "outputs": []
    },
    {
     "cell_type": "code",
     "collapsed": false,
     "input": [
      "#!gzip -f {fn_out}"
     ],
     "language": "python",
     "metadata": {
      "run_control": {
       "breakpoint": false
      }
     },
     "outputs": [],
     "prompt_number": 36
    },
    {
     "cell_type": "markdown",
     "metadata": {},
     "source": [
      "# Basic User Report"
     ]
    },
    {
     "cell_type": "markdown",
     "metadata": {},
     "source": [
      "## New users"
     ]
    },
    {
     "cell_type": "markdown",
     "metadata": {},
     "source": [
      "## Weekly users"
     ]
    },
    {
     "cell_type": "markdown",
     "metadata": {},
     "source": [
      "## Monthly users"
     ]
    },
    {
     "cell_type": "code",
     "collapsed": false,
     "input": [
      "df_user[(df_user.oid==10)].area.value_counts().head(10)"
     ],
     "language": "python",
     "metadata": {
      "run_control": {
       "breakpoint": false
      }
     },
     "outputs": [
      {
       "metadata": {},
       "output_type": "pyout",
       "prompt_number": 32,
       "text": [
        "55    1855322\n",
        "44     755120\n",
        "99     731168\n",
        "66     686824\n",
        "33     601985\n",
        "22     588476\n",
        "81     575647\n",
        "96     540158\n",
        "77     477817\n",
        "87     390645\n",
        "dtype: int64"
       ]
      }
     ],
     "prompt_number": 32
    },
    {
     "cell_type": "code",
     "collapsed": false,
     "input": [
      "s=df_user[(df_user.hash.map(lambda x: x[0]=='0'))&(df_user.oid==10)].msisdn.map(lambda x: int(x)%100)"
     ],
     "language": "python",
     "metadata": {
      "run_control": {
       "breakpoint": false
      }
     },
     "outputs": [],
     "prompt_number": 50
    },
    {
     "cell_type": "code",
     "collapsed": false,
     "input": [
      "s.value_counts()"
     ],
     "language": "python",
     "metadata": {
      "run_control": {
       "breakpoint": false
      }
     },
     "outputs": [
      {
       "metadata": {},
       "output_type": "pyout",
       "prompt_number": 51,
       "text": [
        "97    10048\n",
        "69    10045\n",
        "46    10033\n",
        "64    10031\n",
        "7     10023\n",
        "43    10017\n",
        "41     9997\n",
        "15     9997\n",
        "53     9995\n",
        "19     9991\n",
        "22     9991\n",
        "36     9988\n",
        "83     9985\n",
        "32     9977\n",
        "10     9967\n",
        "...\n",
        "2     9764\n",
        "16    9762\n",
        "14    9762\n",
        "67    9759\n",
        "81    9753\n",
        "40    9746\n",
        "21    9743\n",
        "3     9740\n",
        "92    9737\n",
        "54    9737\n",
        "31    9686\n",
        "93    9684\n",
        "50    9650\n",
        "55    9623\n",
        "56    9589\n",
        "Length: 100, dtype: int64"
       ]
      }
     ],
     "prompt_number": 51
    },
    {
     "cell_type": "code",
     "collapsed": false,
     "input": [
      "#8 = 1379633 "
     ],
     "language": "python",
     "metadata": {
      "run_control": {
       "breakpoint": false
      }
     },
     "outputs": []
    },
    {
     "cell_type": "code",
     "collapsed": false,
     "input": [],
     "language": "python",
     "metadata": {
      "run_control": {
       "breakpoint": false
      }
     },
     "outputs": []
    }
   ],
   "metadata": {}
  }
 ]
}