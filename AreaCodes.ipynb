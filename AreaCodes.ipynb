{
 "metadata": {
  "name": "",
  "signature": "sha256:ff936be1898e95429ab2627b48d84df4afc3d2c8c4f7906698dabacbfbadcecd"
 },
 "nbformat": 3,
 "nbformat_minor": 0,
 "worksheets": [
  {
   "cells": [
    {
     "cell_type": "code",
     "collapsed": false,
     "input": [
      "import sys\n",
      "import csv\n",
      "import StringIO\n",
      "import pandas as pd\n",
      "import numpy as np\n",
      "from collections import Counter\n",
      "\n",
      "sys.path.append('./code')\n",
      "from crypto import xx_msisdn,xx_ip"
     ],
     "language": "python",
     "metadata": {
      "run_control": {
       "breakpoint": false
      }
     },
     "outputs": [],
     "prompt_number": 45
    },
    {
     "cell_type": "code",
     "collapsed": false,
     "input": [
      "ac_in_fn=_rootdir+'data/areacodes.txt'\n",
      "ac_out_fn=_rootdir+'data/areacodes.csv'\n",
      "\n",
      "!head -n 3 {ac_in_fn}"
     ],
     "language": "python",
     "metadata": {},
     "outputs": [
      {
       "output_type": "stream",
       "stream": "stdout",
       "text": [
        "Listado de todas las Claves Lada del Pais \r\n",
        "Localidad Clave Lada Actual\r\n",
        "Abadiano (Los Bajos),Mich. 353 \r\n"
       ]
      }
     ],
     "prompt_number": 20
    },
    {
     "cell_type": "code",
     "collapsed": false,
     "input": [
      "!grep Mahahual  {ac_in_fn}"
     ],
     "language": "python",
     "metadata": {
      "run_control": {
       "breakpoint": false
      }
     },
     "outputs": [
      {
       "output_type": "stream",
       "stream": "stdout",
       "text": [
        "Mahahual,Q. Roo 983 \r\n"
       ]
      }
     ],
     "prompt_number": 21
    },
    {
     "cell_type": "code",
     "collapsed": false,
     "input": [
      "states = Counter()\n",
      "\n",
      "with open(ac_in_fn, \"r\") as infile:\n",
      "    for line in infile:\n",
      "        line=line.strip()\n",
      "        if len(line)>5 and not line.startswith('Listado de') and not line.startswith('Localidad Clave'):\n",
      "            try:\n",
      "                sp1 = line.split(',')\n",
      "                cityname=sp1[0]\n",
      "                sp2=sp1[-1].split(' ')\n",
      "                state='_'.join(sp2[:-1])\n",
      "                area=sp2[-1]\n",
      "                key=','.join([area,state])\n",
      "                states[key]+=1\n",
      "#                if state[0]=='Z':\n",
      "#                    print '>',line, sp1\n",
      "#                    print '%s\\t%s\\t%s'%(cityname,state,area)\n",
      "            except:\n",
      "                print '>>',line\n",
      "                raise\n",
      "                break\n",
      "#            outfile.write(line.split(\"<_|_>\")[0])"
     ],
     "language": "python",
     "metadata": {
      "run_control": {
       "breakpoint": false
      }
     },
     "outputs": [],
     "prompt_number": 143
    },
    {
     "cell_type": "code",
     "collapsed": false,
     "input": [
      "esdados=['Aguascalientes', 'Baja California', 'Baja California Sur', 'Chiapas', 'Campeche', 'Chihuahua', 'Coahuila', 'Colima', 'Durango', 'Guanajuato', 'Guerrero', 'Hidalgo', 'Jalisco', 'State of Mexico', 'Michoacan', 'Morelos', 'Nuevo Leon', 'Nayarit', 'Oaxaca', 'Puebla', 'Quintana Roo', 'Queretaro', 'San Luis Potosi', 'Sinaloa', 'Sonora', 'Tabasco', 'Tamaulipas', 'Tlaxcala', 'Veracruz', 'Yucatan', 'Zacatecas']\n",
      "\n",
      "#with open(_rootdir+'data/statenames','r') as f:\n",
      "#    estados=[e.strip() for e in f.readlines()]\n",
      "\n",
      "print estados"
     ],
     "language": "python",
     "metadata": {
      "run_control": {
       "breakpoint": false
      }
     },
     "outputs": [
      {
       "output_type": "stream",
       "stream": "stdout",
       "text": [
        "['Aguascalientes', 'Baja California', 'Baja California Sur', 'Chiapas', 'Campeche', 'Chihuahua', 'Coahuila', 'Colima', 'Durango', 'Guanajuato', 'Guerrero', 'Hidalgo', 'Jalisco', 'State of Mexico', 'Michoacan', 'Morelos', 'Nuevo Leon', 'Nayarit', 'Oaxaca', 'Puebla', 'Quintana Roo', 'Queretaro', 'San Luis Potosi', 'Sinaloa', 'Sonora', 'Tabasco', 'Tamaulipas', 'Tlaxcala', 'Veracruz', 'Yucatan', 'Zacatecas']\n"
       ]
      }
     ],
     "prompt_number": 147
    },
    {
     "cell_type": "code",
     "collapsed": false,
     "input": [
      "areacodes={}\n",
      "rejects={}\n",
      "\n",
      "for k,v in states.most_common():\n",
      "    sp = k.split(',')\n",
      "    area=sp[0]\n",
      "    state=sp[1]\n",
      "    if area not in areacodes:\n",
      "        areacodes[area]=state\n",
      "    else:\n",
      "        rejects[area]=state\n",
      "#sorted(states.items(), cmp=(lambda k,v:  reverse=True)"
     ],
     "language": "python",
     "metadata": {
      "run_control": {
       "breakpoint": false
      }
     },
     "outputs": [],
     "prompt_number": 97
    },
    {
     "cell_type": "code",
     "collapsed": false,
     "input": [
      "#TODO: think of d.f. (currently mapped to Mex)"
     ],
     "language": "python",
     "metadata": {
      "run_control": {
       "breakpoint": false
      }
     },
     "outputs": [],
     "prompt_number": 99
    },
    {
     "cell_type": "code",
     "collapsed": false,
     "input": [
      "list(areacodes.items())[:5]"
     ],
     "language": "python",
     "metadata": {
      "run_control": {
       "breakpoint": false
      }
     },
     "outputs": [
      {
       "metadata": {},
       "output_type": "pyout",
       "prompt_number": 102,
       "text": [
        "[('344', 'Jal.'),\n",
        " ('345', 'Jal.'),\n",
        " ('346', 'Zac.'),\n",
        " ('347', 'Jal.'),\n",
        " ('341', 'Jal.')]"
       ]
      }
     ],
     "prompt_number": 102
    },
    {
     "cell_type": "code",
     "collapsed": false,
     "input": [
      "s =set(areacodes.values())\n",
      "#s"
     ],
     "language": "python",
     "metadata": {
      "run_control": {
       "breakpoint": false
      }
     },
     "outputs": [],
     "prompt_number": 125
    },
    {
     "cell_type": "code",
     "collapsed": false,
     "input": [
      "i=0\n",
      "abbrev_map={}\n",
      "for e in sorted(s):\n",
      "    abbrev_map[e]=estados[i]\n",
      "    i+=1\n",
      "    \n",
      "abbrev_map"
     ],
     "language": "python",
     "metadata": {
      "run_control": {
       "breakpoint": false
      }
     },
     "outputs": [
      {
       "metadata": {},
       "output_type": "pyout",
       "prompt_number": 128,
       "text": [
        "{'Ags.': 'Aguascalientes',\n",
        " 'B.C.': 'Baja California',\n",
        " 'B.C.S.': 'Baja California Sur',\n",
        " 'Camp.': 'Chiapas',\n",
        " 'Chih.': 'Campeche',\n",
        " 'Chis.': 'Chihuahua',\n",
        " 'Coah.': 'Coahuila',\n",
        " 'Col.': 'Colima',\n",
        " 'Dgo.': 'Durango',\n",
        " 'Gro.': 'Guanajuato',\n",
        " 'Gto.': 'Guerrero',\n",
        " 'Hgo.': 'Hidalgo',\n",
        " 'Jal.': 'Jalisco',\n",
        " 'Mex.': 'State of Mexico',\n",
        " 'Mich.': 'Michoacan',\n",
        " 'Mor.': 'Morelos',\n",
        " 'N.L.': 'Nuevo Leon',\n",
        " 'Nay.': 'Nayarit',\n",
        " 'Oax.': 'Oaxaca',\n",
        " 'Pue.': 'Puebla',\n",
        " 'Q.Roo': 'Quintana Roo',\n",
        " 'Qro.': 'Queretaro',\n",
        " 'S.L.P.': 'San Luis Potosi',\n",
        " 'Sin.': 'Sinaloa',\n",
        " 'Son.': 'Sonora',\n",
        " 'Tab.': 'Tabasco',\n",
        " 'Tamps.': 'Tamaulipas',\n",
        " 'Tlax.': 'Tlaxcala',\n",
        " 'Ver.': 'Veracruz',\n",
        " 'Yuc.': 'Yucatan',\n",
        " 'Zac.': 'Zacatecas'}"
       ]
      }
     ],
     "prompt_number": 128
    },
    {
     "cell_type": "code",
     "collapsed": false,
     "input": [
      "# create a csv with areacode,state\n",
      "with open(ac_out_fn, \"w\") as outfile:\n",
      "    outfile.write('areacode,state\\n')\n",
      "    for k,v in sorted(areacodes.items()):\n",
      "        line =','.join([k,abbrev_map[v]])\n",
      "        outfile.write(line+'\\n')\n",
      "!head {ac_out_fn}"
     ],
     "language": "python",
     "metadata": {
      "run_control": {
       "breakpoint": false
      }
     },
     "outputs": [
      {
       "output_type": "stream",
       "stream": "stdout",
       "text": [
        "areacode,state\r\n",
        "222,Puebla\r\n",
        "223,Puebla\r\n",
        "224,Puebla\r\n",
        "225,Veracruz\r\n",
        "226,Veracruz\r\n",
        "227,Puebla\r\n",
        "228,Veracruz\r\n",
        "229,Veracruz\r\n",
        "231,Puebla\r\n"
       ]
      }
     ],
     "prompt_number": 141
    },
    {
     "cell_type": "code",
     "collapsed": false,
     "input": [
      "#build a list of all area codes in each state\n",
      "ac_per_state={}\n",
      "\n",
      "for k,v in sorted(areacodes.items()):\n",
      "    state=abbrev_map[v]\n",
      "    if state not in ac_per_state:\n",
      "        ac_per_state[state]=[k]\n",
      "    else:\n",
      "        ac_per_state[state].append(k)\n",
      "\n",
      "for k,v in ac_per_state.items():\n",
      "    print k,len(v) "
     ],
     "language": "python",
     "metadata": {
      "run_control": {
       "breakpoint": false
      }
     },
     "outputs": [
      {
       "output_type": "stream",
       "stream": "stdout",
       "text": [
        "Guerrero 23\n",
        "State of Mexico 25\n",
        "Guanajuato 17\n",
        "Queretaro 5\n",
        "Sinaloa 11\n",
        "Tamaulipas 12\n",
        "Nuevo Leon 10\n",
        "Aguascalientes 3\n",
        "Tlaxcala 4\n",
        "Nayarit 8\n",
        "Chiapas 4\n",
        "Zacatecas 14\n",
        "San Luis Potosi 10\n",
        "Baja California 7\n",
        "Quintana Roo 4\n",
        "Michoacan 32\n",
        "Colima 3\n",
        "Sonora 17\n",
        "Tabasco 10\n",
        "Baja California Sur 4\n",
        "Puebla 19\n",
        "Oaxaca 11\n",
        "Jalisco 39\n",
        "Campeche 15\n",
        "Durango 7\n",
        "Chihuahua 12\n",
        "Yucatan 7\n",
        "Veracruz 33\n",
        "Morelos 8\n",
        "Hidalgo 14\n",
        "Coahuila 9\n"
       ]
      }
     ],
     "prompt_number": 150
    },
    {
     "cell_type": "code",
     "collapsed": false,
     "input": [
      "# verify the ambiguous choices between states\n",
      "# We may want to doublecheck those\n",
      "for k,v in rejects.items():\n",
      "    areacodes_num=states[','.join([k,areacodes[k]])]\n",
      "    rejects_num=states[','.join([k,v])]\n",
      "    diff=areacodes_num-rejects_num\n",
      "    if diff < 3: # this means that the two are closely related\n",
      "        print k,abbrev_map[v], '-',abbrev_map[areacodes[k]], '%s-%s='%(areacodes_num,rejects_num),diff\n",
      "    "
     ],
     "language": "python",
     "metadata": {
      "run_control": {
       "breakpoint": false
      }
     },
     "outputs": [
      {
       "output_type": "stream",
       "stream": "stdout",
       "text": [
        "346 Jalisco - Zacatecas 5-3= 2\n",
        "932 Chihuahua - Tabasco 5-3= 2\n",
        "282 Puebla - Veracruz 9-8= 1\n",
        "711 Michoacan - State of Mexico 3-1= 2\n",
        "923 Veracruz - Tabasco 4-4= 0\n",
        "274 Veracruz - Oaxaca 4-4= 0\n",
        "833 Tamaulipas - Veracruz 6-4= 2\n",
        "917 Chihuahua - Tabasco 3-2= 1\n",
        "842 Coahuila - Zacatecas 3-2= 1\n",
        "789 Hidalgo - Veracruz 6-5= 1\n",
        "649 Durango - Campeche 11-9= 2\n",
        "437 Zacatecas - Jalisco 5-4= 1\n",
        "867 Coahuila - Tamaulipas 1-1= 0\n",
        "721 Guanajuato - State of Mexico 4-2= 2\n",
        "873 Coahuila - Nuevo Leon 2-1= 1\n",
        "776 Hidalgo - Puebla 6-4= 2\n",
        "483 Hidalgo - San Luis Potosi 7-5= 2\n"
       ]
      }
     ],
     "prompt_number": 131
    },
    {
     "cell_type": "code",
     "collapsed": false,
     "input": [],
     "language": "python",
     "metadata": {
      "run_control": {
       "breakpoint": false
      }
     },
     "outputs": []
    }
   ],
   "metadata": {}
  }
 ]
}